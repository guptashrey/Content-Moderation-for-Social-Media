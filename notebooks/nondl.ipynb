{
 "cells": [
  {
   "cell_type": "code",
   "execution_count": null,
   "metadata": {
    "collapsed": true
   },
   "outputs": [],
   "source": []
  },
  {
   "cell_type": "code",
   "execution_count": 1,
   "outputs": [],
   "source": [
    "\n",
    "from sklearn.metrics import accuracy_score\n",
    "import numpy as np\n",
    "import torch\n",
    "import torchvision\n",
    "import torchvision.transforms as transforms\n",
    "from sklearn.ensemble import RandomForestClassifier\n",
    "import joblib\n",
    "import warnings\n",
    "\n",
    "from sklearn.tree import DecisionTreeClassifier\n",
    "\n",
    "warnings.filterwarnings(\"ignore\")\n",
    "\n",
    "\n",
    "\n",
    "# Load the data using ImageFolder\n",
    "data_transform = transforms.Compose([\n",
    "    transforms.Resize(256),\n",
    "    # transforms.RandomHorizontalFlip(),\n",
    "    transforms.CenterCrop(224),\n",
    "    transforms.ToTensor(),\n",
    "    transforms.Normalize(mean=[0.485, 0.456, 0.406],\n",
    "                         std=[0.229, 0.224, 0.225])\n",
    "])\n",
    "\n",
    "image_dataset = torchvision.datasets.ImageFolder(root='./images',\n",
    "                                                  transform=data_transform)\n",
    "\n",
    "# Split the data into training and validation sets\n",
    "train_size = int(0.9 * len(image_dataset))\n",
    "val_size = len(image_dataset) - train_size\n",
    "train_dataset, val_dataset = torch.utils.data.random_split(image_dataset, [train_size, val_size])\n",
    "\n",
    "# Create data loaders for the training and validation sets\n",
    "train_loader = torch.utils.data.DataLoader(train_dataset, batch_size=32,\n",
    "                                           shuffle=True, num_workers=4)\n",
    "val_loader = torch.utils.data.DataLoader(val_dataset, batch_size=32,\n",
    "                                         shuffle=True, num_workers=4)\n",
    "\n",
    "# transfer the dataset into the sklearn format\n",
    "train_data = []\n",
    "train_labels = []\n",
    "for data in train_dataset:\n",
    "    inputs, labels = data\n",
    "    images = inputs.numpy().reshape(-1)\n",
    "    train_data.append(images)\n",
    "    train_labels.append([labels])\n",
    "\n",
    "\n",
    "train_data=np.array(train_data)\n",
    "train_labels=np.array(train_labels)\n",
    "\n",
    "\n",
    "test_data = []\n",
    "test_labels = []\n",
    "\n",
    "for i, data in enumerate(val_dataset, 0):\n",
    "    inputs, labels = data\n",
    "    images = inputs.numpy().reshape(-1)\n",
    "    test_data.append(images)\n",
    "    test_labels.append(labels)\n",
    "\n",
    "test_data=np.array(test_data)\n",
    "test_labels=np.array(test_labels)\n",
    "\n"
   ],
   "metadata": {
    "collapsed": false
   }
  },
  {
   "cell_type": "code",
   "execution_count": 2,
   "outputs": [
    {
     "name": "stdout",
     "output_type": "stream",
     "text": [
      "Models:  <class 'sklearn.ensemble._forest.RandomForestClassifier'> Accuracy:  0.875\n",
      "Models:  <class 'sklearn.tree._classes.DecisionTreeClassifier'> Accuracy:  0.7083333333333334\n",
      "The best model is <class 'sklearn.ensemble._forest.RandomForestClassifier'>\n",
      "Load Accuracy:  0.875\n"
     ]
    }
   ],
   "source": [
    "# train the model\n",
    "\n",
    "models=[RandomForestClassifier(random_state=45), DecisionTreeClassifier(random_state=0)]\n",
    "results=[]\n",
    "for m in models:\n",
    "    m.fit(train_data, train_labels)\n",
    "    predictions = m.predict(test_data)\n",
    "    accuracy = accuracy_score(test_labels, predictions)\n",
    "    print(\"Models: \",type(m),\"Accuracy: \",accuracy)\n",
    "    results.append(accuracy)\n",
    "best_model = models[np.argmax(results)]\n",
    "print(\"The best model is\", type(best_model))\n",
    "# save the model\n",
    "path = './model/sklearn_best_model.pkl'\n",
    "joblib.dump(best_model, path)\n",
    "# load the model from disk\n",
    "loaded_model = joblib.load(path)\n",
    "result = loaded_model.score(test_data, test_labels)\n",
    "print(\"Load Accuracy: \",result)\n"
   ],
   "metadata": {
    "collapsed": false
   }
  },
  {
   "cell_type": "code",
   "execution_count": 2,
   "outputs": [],
   "source": [
    "\n",
    "\n"
   ],
   "metadata": {
    "collapsed": false
   }
  },
  {
   "cell_type": "code",
   "execution_count": 2,
   "outputs": [],
   "source": [],
   "metadata": {
    "collapsed": false
   }
  }
 ],
 "metadata": {
  "kernelspec": {
   "display_name": "Python 3",
   "language": "python",
   "name": "python3"
  },
  "language_info": {
   "codemirror_mode": {
    "name": "ipython",
    "version": 2
   },
   "file_extension": ".py",
   "mimetype": "text/x-python",
   "name": "python",
   "nbconvert_exporter": "python",
   "pygments_lexer": "ipython2",
   "version": "2.7.6"
  }
 },
 "nbformat": 4,
 "nbformat_minor": 0
}
