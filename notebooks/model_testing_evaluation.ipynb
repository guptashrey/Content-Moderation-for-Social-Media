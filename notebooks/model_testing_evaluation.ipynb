{
 "cells": [
  {
   "cell_type": "code",
   "execution_count": 1,
   "metadata": {},
   "outputs": [],
   "source": [
    "# library imports\n",
    "import torch\n",
    "import torch.nn as nn\n",
    "import torch.optim as optim\n",
    "import torchvision\n",
    "from torchsummary import summary\n",
    "import json\n",
    "import random\n",
    "import numpy as np\n",
    "\n",
    "np.random.seed(0)\n",
    "random.seed(0)\n",
    "torch.manual_seed(0)\n",
    "\n",
    "from PIL import Image\n",
    "Image.MAX_IMAGE_PIXELS = 120000000\n",
    "\n",
    "import logging\n",
    "logging.basicConfig(level=logging.INFO)\n",
    "from sklearn.metrics import classification_report"
   ]
  },
  {
   "cell_type": "code",
   "execution_count": 2,
   "metadata": {},
   "outputs": [
    {
     "name": "stderr",
     "output_type": "stream",
     "text": [
      "INFO:root:Torch Version: 1.10, Cuda Version: cu113\n"
     ]
    }
   ],
   "source": [
    "# torch parameters being used\n",
    "TORCH_VERSION = \".\".join(torch.__version__.split(\".\")[:2])\n",
    "CUDA_VERSION = torch.__version__.split(\"+\")[-1]\n",
    "logging.info(f'Torch Version: {TORCH_VERSION}, Cuda Version: {CUDA_VERSION}')"
   ]
  },
  {
   "cell_type": "code",
   "execution_count": 3,
   "metadata": {},
   "outputs": [],
   "source": [
    "# local imports\n",
    "from test_helper_functions import create_datasets, create_dataloaders, test_model, test_svm_model"
   ]
  },
  {
   "cell_type": "code",
   "execution_count": 4,
   "metadata": {},
   "outputs": [
    {
     "name": "stderr",
     "output_type": "stream",
     "text": [
      "INFO:root:Test Config File Read Successfully.\n"
     ]
    }
   ],
   "source": [
    "# read in config file\n",
    "with open('test_config.json') as f:\n",
    "    config = json.load(f)\n",
    "    logging.info('Test Config File Read Successfully.')"
   ]
  },
  {
   "cell_type": "code",
   "execution_count": 5,
   "metadata": {},
   "outputs": [
    {
     "name": "stderr",
     "output_type": "stream",
     "text": [
      "INFO:root:Train, Validation and Test Datasets Created Successfully.\n",
      "INFO:root:Train, Validation and Test Dataloaders Created Successfully.\n",
      "INFO:root:Model Loaded Successfully.\n",
      "INFO:root:Device cuda:0 Being Used.\n"
     ]
    }
   ],
   "source": [
    "# create datasets and dataloaders\n",
    "train_dataset, val_dataset, test_dataset, class_names, num_classes = create_datasets(config[\"data_dir\"], config[\"train_perc\"], config[\"val_perc\"], config[\"test_perc\"])\n",
    "logging.info('Train, Validation and Test Datasets Created Successfully.')\n",
    "\n",
    "dataloaders, dataset_sizes = create_dataloaders(train_dataset, val_dataset, test_dataset, batch_size=config[\"batch_size\"], num_workers = config[\"num_workers\"])\n",
    "logging.info('Train, Validation and Test Dataloaders Created Successfully.')\n",
    "\n",
    "net = torch.load(config[\"model_dir\"])\n",
    "logging.info('Model Loaded Successfully.')\n",
    "\n",
    "# set device\n",
    "device = torch.device(\"cuda:0\" if torch.cuda.is_available() else \"cpu\")\n",
    "logging.info(f'Device {device} Being Used.')"
   ]
  },
  {
   "cell_type": "code",
   "execution_count": 6,
   "metadata": {},
   "outputs": [
    {
     "name": "stdout",
     "output_type": "stream",
     "text": [
      "              precision    recall  f1-score   support\n",
      "\n",
      "     neutral       0.70      0.32      0.44      8471\n",
      "        nsfw       0.15      0.25      0.19      2288\n",
      "    violence       0.05      0.28      0.08       617\n",
      "\n",
      "    accuracy                           0.30     11376\n",
      "   macro avg       0.30      0.28      0.24     11376\n",
      "weighted avg       0.55      0.30      0.37     11376\n",
      "\n"
     ]
    }
   ],
   "source": [
    "if config[\"model_type\"] == \"svm\":\n",
    "    all_preds, all_labels = test_svm_model(net, dataloaders, device, config[\"input_size\"])\n",
    "else:\n",
    "    all_preds, all_labels = test_model(net, dataloaders, device)\n",
    "\n",
    "print(classification_report(all_labels, all_preds, target_names=class_names))"
   ]
  },
  {
   "attachments": {},
   "cell_type": "markdown",
   "metadata": {},
   "source": [
    "svm.pt\n",
    "\n",
    "              precision    recall  f1-score   support\n",
    "\n",
    "     neutral       0.70      0.32      0.44      8471\n",
    "        nsfw       0.15      0.25      0.19      2288\n",
    "    violence       0.05      0.28      0.08       617\n",
    "\n",
    "    accuracy                           0.30     11376\n",
    "    macro avg      0.30      0.28      0.24     11376\n",
    "    weighted avg   0.55      0.30      0.37     11376"
   ]
  },
  {
   "cell_type": "markdown",
   "metadata": {},
   "source": [
    "vgg19_bn_full.pt\n",
    "\n",
    "              precision    recall  f1-score   support\n",
    "\n",
    "     neutral       0.74      1.00      0.85      8471\n",
    "        nsfw       0.00      0.00      0.00      2288\n",
    "    violence       0.00      0.00      0.00       617\n",
    "\n",
    "    accuracy                           0.74     11376\n",
    "    macro avg      0.25      0.33      0.28     11376\n",
    "    weighted avg   0.55      0.74      0.64     11376"
   ]
  },
  {
   "attachments": {},
   "cell_type": "markdown",
   "metadata": {},
   "source": [
    "resnet_18_only_fc.pt\n",
    "\n",
    "              precision    recall  f1-score   support\n",
    "\n",
    "     neutral       0.90      0.96      0.93      8471\n",
    "        nsfw       0.86      0.74      0.80      2288\n",
    "    violence       0.78      0.52      0.62       617\n",
    "\n",
    "    accuracy                           0.89     11376\n",
    "    macro avg      0.85      0.74      0.78     11376\n",
    "    weighted avg   0.89      0.89      0.89     11376"
   ]
  },
  {
   "cell_type": "markdown",
   "metadata": {},
   "source": [
    "resnet18_full.pt\n",
    "\n",
    "                precision    recall  f1-score   support\n",
    "\n",
    "     neutral       0.91      0.95      0.93      8471\n",
    "        nsfw       0.86      0.74      0.80      2288\n",
    "    violence       0.74      0.59      0.65       617\n",
    "\n",
    "    accuracy                           0.89     11376\n",
    "    macro avg      0.83      0.76      0.79     11376\n",
    "    weighted avg   0.89      0.89      0.89     11376"
   ]
  },
  {
   "cell_type": "markdown",
   "metadata": {},
   "source": [
    "vgg19_bn_only_fc.pt\n",
    "\n",
    "                precision    recall  f1-score   support\n",
    "\n",
    "    neutral       0.91      0.95      0.93      8471\n",
    "    nsfw          0.85      0.77      0.81      2288\n",
    "    violence      0.71      0.59      0.65       617\n",
    "\n",
    "    accuracy                          0.89     11376\n",
    "    macro avg     0.82      0.77      0.80     11376\n",
    "    weighted avg  0.89      0.89      0.89     11376"
   ]
  },
  {
   "cell_type": "markdown",
   "metadata": {},
   "source": [
    "resnet_152_only_fc_orig.pt\n",
    "\n",
    "              precision    recall  f1-score   support\n",
    "\n",
    "     neutral       0.94      0.93      0.93      8471\n",
    "        nsfw       0.80      0.85      0.82      2288\n",
    "    violence       0.74      0.68      0.71       617\n",
    "\n",
    "    accuracy                           0.90     11376\n",
    "    macro avg      0.83      0.82      0.82     11376\n",
    "    weighted avg   0.90      0.90      0.90     11376"
   ]
  },
  {
   "attachments": {},
   "cell_type": "markdown",
   "metadata": {},
   "source": [
    "resnet152_full.pt\n",
    "\n",
    "              precision    recall  f1-score   support\n",
    "\n",
    "     neutral       0.94      0.94      0.94      8471\n",
    "        nsfw       0.81      0.85      0.82      2288\n",
    "    violence       0.74      0.69      0.71       617\n",
    "\n",
    "    accuracy                           0.91     11376\n",
    "    macro avg      0.83      0.83      0.82     11376\n",
    "    weighted avg   0.91      0.91      0.91     11376"
   ]
  }
 ],
 "metadata": {
  "kernelspec": {
   "display_name": "cv_540",
   "language": "python",
   "name": "cv_540"
  },
  "language_info": {
   "codemirror_mode": {
    "name": "ipython",
    "version": 3
   },
   "file_extension": ".py",
   "mimetype": "text/x-python",
   "name": "python",
   "nbconvert_exporter": "python",
   "pygments_lexer": "ipython3",
   "version": "3.8.16"
  },
  "orig_nbformat": 4,
  "vscode": {
   "interpreter": {
    "hash": "f0c49e522b8a5be1833dc8e89560cc3d39d8a423a519d127daaf30d9a3827d27"
   }
  }
 },
 "nbformat": 4,
 "nbformat_minor": 2
}
