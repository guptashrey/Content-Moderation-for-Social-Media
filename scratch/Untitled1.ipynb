{
 "cells": [
  {
   "cell_type": "code",
   "execution_count": 1,
   "id": "796f8013-ecfd-4a25-98de-5aa76a9cd1ae",
   "metadata": {},
   "outputs": [],
   "source": [
    "from PIL import Image\n",
    "import os\n",
    "from tqdm import tqdm"
   ]
  },
  {
   "cell_type": "code",
   "execution_count": 2,
   "id": "947a4493-d562-4f8e-9c52-e7bbd094e0f1",
   "metadata": {},
   "outputs": [
    {
     "name": "stderr",
     "output_type": "stream",
     "text": [
      " 40%|███▉      | 13505/33772 [05:00<08:27, 39.90it/s]/hpc/group/rescomp/sg623/miniconda3/envs/cv_540/lib/python3.8/site-packages/PIL/Image.py:3074: DecompressionBombWarning: Image size (117018720 pixels) exceeds limit of 89478485 pixels, could be decompression bomb DOS attack.\n",
      "  warnings.warn(\n",
      " 42%|████▏     | 14026/33772 [05:14<06:15, 52.54it/s]/hpc/group/rescomp/sg623/miniconda3/envs/cv_540/lib/python3.8/site-packages/PIL/Image.py:3074: DecompressionBombWarning: Image size (97794746 pixels) exceeds limit of 89478485 pixels, could be decompression bomb DOS attack.\n",
      "  warnings.warn(\n",
      " 57%|█████▋    | 19206/33772 [07:30<05:26, 44.63it/s]/hpc/group/rescomp/sg623/miniconda3/envs/cv_540/lib/python3.8/site-packages/PIL/Image.py:3074: DecompressionBombWarning: Image size (111759720 pixels) exceeds limit of 89478485 pixels, could be decompression bomb DOS attack.\n",
      "  warnings.warn(\n",
      " 97%|█████████▋| 32712/33772 [13:03<00:23, 45.81it/s]/hpc/group/rescomp/sg623/miniconda3/envs/cv_540/lib/python3.8/site-packages/PIL/Image.py:3074: DecompressionBombWarning: Image size (98130452 pixels) exceeds limit of 89478485 pixels, could be decompression bomb DOS attack.\n",
      "  warnings.warn(\n",
      "100%|██████████| 33772/33772 [13:23<00:00, 42.05it/s]\n"
     ]
    }
   ],
   "source": [
    "for filename in tqdm(os.listdir('./images/neutral')):\n",
    "    image_path = os.path.join('./images/neutral', filename)\n",
    "    try:\n",
    "        image = Image.open(image_path)\n",
    "    except Exception as e:\n",
    "        print(f\"Failed to download image '{image_path}': {e}\")\n",
    "        os.remove(image_path)"
   ]
  },
  {
   "cell_type": "code",
   "execution_count": 5,
   "id": "133abbb4-d412-428c-88ce-6b01d37aa906",
   "metadata": {},
   "outputs": [],
   "source": [
    "x = os.listdir('./images/neutral')"
   ]
  },
  {
   "cell_type": "code",
   "execution_count": 12,
   "id": "176b465c-d0d4-431b-b251-fe0fca92a9bd",
   "metadata": {},
   "outputs": [
    {
     "data": {
      "text/plain": [
       "'e9w7j0ghy1w11.jpg'"
      ]
     },
     "execution_count": 12,
     "metadata": {},
     "output_type": "execute_result"
    }
   ],
   "source": [
    "x[13506]"
   ]
  },
  {
   "cell_type": "code",
   "execution_count": 13,
   "id": "2d33880e-84d8-4a08-8385-cbc4e6ed1c96",
   "metadata": {},
   "outputs": [],
   "source": [
    "image = Image.open('./images/neutral/e9w7j0ghy1w11.jpg')"
   ]
  },
  {
   "cell_type": "code",
   "execution_count": null,
   "id": "3ec45363-e1f2-4b79-a9a6-b66b26076014",
   "metadata": {},
   "outputs": [],
   "source": []
  }
 ],
 "metadata": {
  "kernelspec": {
   "display_name": "cv_540",
   "language": "python",
   "name": "cv_540"
  },
  "language_info": {
   "codemirror_mode": {
    "name": "ipython",
    "version": 3
   },
   "file_extension": ".py",
   "mimetype": "text/x-python",
   "name": "python",
   "nbconvert_exporter": "python",
   "pygments_lexer": "ipython3",
   "version": "3.8.16"
  }
 },
 "nbformat": 4,
 "nbformat_minor": 5
}
