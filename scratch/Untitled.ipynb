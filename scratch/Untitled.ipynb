{
 "cells": [
  {
   "cell_type": "code",
   "execution_count": null,
   "id": "695b96ed-c7ce-486e-bd5a-726697c5d610",
   "metadata": {},
   "outputs": [],
   "source": [
    "from multiprocessing import Pool\n",
    "\n",
    "def f(x):\n",
    "    return x*x\n",
    "\n",
    "if __name__ == '__main__':\n",
    "    with Pool(5) as p:\n",
    "        print(p.map(f, [1, 2, 3]))"
   ]
  },
  {
   "cell_type": "code",
   "execution_count": 1,
   "id": "e959eddf-bff4-4cfe-aaf0-ffa647c84004",
   "metadata": {},
   "outputs": [],
   "source": [
    "from multiprocessing import Pool\n",
    "from PIL import Image\n",
    "import os"
   ]
  },
  {
   "cell_type": "code",
   "execution_count": null,
   "id": "1b048346-8aea-4df8-8f5a-5df7e5519807",
   "metadata": {},
   "outputs": [],
   "source": [
    "def optimize_image(filename):\n",
    "    folder = './nsfw'\n",
    "    opt_folder = './nsfw_optimized'\n",
    "    image_path = os.path.join(folder, filename)\n",
    "    opt_image_path = os.path.join(opt_folder, filename)\n",
    "    try:\n",
    "        image = Image.open(image_path)\n",
    "        im2 = image.convert('RGB')\n",
    "\n",
    "        print(f\"optimize image '{image_path}'\")\n",
    "        image.save(opt_image_path, optimize=True, quality=80)\n",
    "        os.remove(image_path)\n",
    "    except Exception as e:\n",
    "        print(f\"Failed to download image '{image_path}': {e}\")\n",
    "        os.remove(image_path)\n",
    "\n",
    "if __name__ == '__main__':\n",
    "    folder = './nsfw'\n",
    "    opt_folder = './nsfw_optimized'\n",
    "    file_names = os.listdir(folder)\n",
    "    with Pool(4) as p:\n",
    "        print(p.map(optimize_image, file_names))"
   ]
  },
  {
   "cell_type": "code",
   "execution_count": null,
   "id": "8dd371f8-a76e-49fc-8029-206ef414d391",
   "metadata": {},
   "outputs": [],
   "source": [
    "from PIL import Image\n",
    "import os\n",
    "\n",
    "def optimize_image(image_path, opt_image_path):\n",
    "    try:\n",
    "        image = Image.open(image_path)\n",
    "        im2 = image.convert('RGB')\n",
    "\n",
    "        print(f\"optimize image '{image_path}'\")\n",
    "        image.save(opt_image_path, optimize=True, quality=80)\n",
    "        os.remove(image_path)\n",
    "    except Exception as e:\n",
    "        print(f\"Failed to download image '{image_path}': {e}\")\n",
    "        os.remove(image_path)\n",
    "\n",
    "folder = './nsfw'\n",
    "opt_folder = './nsfw_optimized'\n",
    "for filename in os.listdir(folder):\n",
    "    image_path = os.path.join(folder, filename)\n",
    "    opt_image_path = os.path.join(opt_folder, filename)\n",
    "    optimize_image(image_path, opt_image_path)\n"
   ]
  },
  {
   "cell_type": "code",
   "execution_count": 5,
   "id": "284aec76-e542-42fa-a48a-6fa9951cbd45",
   "metadata": {},
   "outputs": [],
   "source": [
    "from PIL import Image\n",
    "import os\n",
    "from tqdm import tqdm"
   ]
  },
  {
   "cell_type": "code",
   "execution_count": 8,
   "id": "2ba3b87e-abf2-4419-a26f-f71f5ef46633",
   "metadata": {},
   "outputs": [
    {
     "name": "stderr",
     "output_type": "stream",
     "text": [
      "100%|██████████| 9312/9312 [00:32<00:00, 288.03it/s]\n"
     ]
    }
   ],
   "source": [
    "for filename in tqdm(os.listdir('./images/nsfw')):\n",
    "    image_path = os.path.join('./images/nsfw', filename)\n",
    "    try:\n",
    "        image = Image.open(image_path)\n",
    "    except Exception as e:\n",
    "        print(f\"Failed to download image '{image_path}': {e}\")\n",
    "        os.remove(image_path)"
   ]
  },
  {
   "cell_type": "code",
   "execution_count": null,
   "id": "a2b51143-ad99-46ae-aeff-21cb59c56adf",
   "metadata": {},
   "outputs": [],
   "source": []
  }
 ],
 "metadata": {
  "kernelspec": {
   "display_name": "cv_540",
   "language": "python",
   "name": "cv_540"
  },
  "language_info": {
   "codemirror_mode": {
    "name": "ipython",
    "version": 3
   },
   "file_extension": ".py",
   "mimetype": "text/x-python",
   "name": "python",
   "nbconvert_exporter": "python",
   "pygments_lexer": "ipython3",
   "version": "3.8.16"
  }
 },
 "nbformat": 4,
 "nbformat_minor": 5
}
