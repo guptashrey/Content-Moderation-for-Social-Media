{
 "cells": [
  {
   "cell_type": "code",
   "execution_count": 1,
   "metadata": {},
   "outputs": [],
   "source": []
  },
  {
   "cell_type": "code",
   "execution_count": 3,
   "metadata": {},
   "outputs": [],
   "source": [
    "class SVM_Loss(torch.nn.modules.Module):\n",
    "    \"\"\"\n",
    "    SVM Loss function\n",
    "    \"\"\"    \n",
    "    def __init__(self):\n",
    "        \"\"\"\n",
    "        Initialize the SVM Loss function\n",
    "        \"\"\"\n",
    "        super(SVM_Loss,self).__init__()\n",
    "\n",
    "    def forward(self, outputs, labels):\n",
    "        \"\"\"\n",
    "        Forward pass of the SVM Loss function\n",
    "        \"\"\"\n",
    "        return torch.sum(torch.clamp(1 - outputs.t()*labels, min=0))/batch_size"
   ]
  },
  {
   "cell_type": "code",
   "execution_count": 4,
   "metadata": {},
   "outputs": [
    {
     "name": "stderr",
     "output_type": "stream",
     "text": [
      "INFO:root:Torch Version: 1.10, Cuda Version: cu113\n"
     ]
    }
   ],
   "source": [
    "# torch parameters being used\n",
    "TORCH_VERSION = \".\".join(torch.__version__.split(\".\")[:2])\n",
    "CUDA_VERSION = torch.__version__.split(\"+\")[-1]\n",
    "logging.info(f'Torch Version: {TORCH_VERSION}, Cuda Version: {CUDA_VERSION}')"
   ]
  },
  {
   "cell_type": "code",
   "execution_count": 5,
   "metadata": {},
   "outputs": [
    {
     "name": "stderr",
     "output_type": "stream",
     "text": [
      "INFO:root:Resnet Config File Read Successfully.\n"
     ]
    }
   ],
   "source": []
  },
  {
   "cell_type": "code",
   "execution_count": 6,
   "metadata": {},
   "outputs": [
    {
     "name": "stderr",
     "output_type": "stream",
     "text": [
      "INFO:root:Train, Validation and Test Datasets Created Successfully.\n",
      "INFO:root:Train, Validation and Test Dataloaders Created Successfully.\n"
     ]
    }
   ],
   "source": [
    "# create datasets and dataloaders\n",
    "train_dataset, val_dataset, test_dataset, class_names, num_classes = create_datasets(config[\"data_dir\"], config[\"train_perc\"], config[\"val_perc\"], config[\"test_perc\"])\n",
    "logging.info('Train, Validation and Test Datasets Created Successfully.')\n",
    "\n",
    "dataloaders, dataset_sizes = create_dataloaders(train_dataset, val_dataset, test_dataset, batch_size=config[\"batch_size\"], num_workers = config[\"num_workers\"])\n",
    "logging.info('Train, Validation and Test Dataloaders Created Successfully.')"
   ]
  },
  {
   "cell_type": "code",
   "execution_count": 7,
   "metadata": {},
   "outputs": [],
   "source": [
    "# Parameters for training\n",
    "#batch_size = 8\n",
    "#num_epochs = 35 \n",
    "input_size = 150528  #(dimension of image 224*224*3)\n",
    "#num_classes = 3\n",
    "learning_rate = 0.0001 ## step size used by SGD \n",
    "momentum = 0.1 ## Momentum is a moving average of our gradients (helps to keep direction)"
   ]
  },
  {
   "cell_type": "code",
   "execution_count": 8,
   "metadata": {},
   "outputs": [
    {
     "name": "stderr",
     "output_type": "stream",
     "text": [
      "INFO:root:Device cuda:0 Being Used.\n"
     ]
    }
   ],
   "source": [
    "# set device\n",
    "device = torch.device(\"cuda:0\" if torch.cuda.is_available() else \"cpu\")\n",
    "logging.info(f'Device {device} Being Used.')"
   ]
  },
  {
   "cell_type": "code",
   "execution_count": 9,
   "metadata": {},
   "outputs": [],
   "source": [
    "# SVM regression model and Loss\n",
    "svm_model = nn.Linear(input_size,num_classes)\n",
    "\n",
    "# Loss and optimizer\n",
    "svm_loss_criteria = SVM_Loss()\n",
    "svm_optimizer = torch.optim.SGD(svm_model.parameters(), lr=learning_rate, momentum=momentum)\n",
    "total_step = len(dataloaders[\"train\"])"
   ]
  },
  {
   "cell_type": "code",
   "execution_count": 10,
   "metadata": {},
   "outputs": [],
   "source": [
    "svm_model = svm_model.to(device) "
   ]
  },
  {
   "cell_type": "code",
   "execution_count": 11,
   "metadata": {},
   "outputs": [],
   "source": [
    "num_epochs = 1"
   ]
  },
  {
   "cell_type": "code",
   "execution_count": 12,
   "metadata": {},
   "outputs": [],
   "source": [
    "batch_size = config[\"batch_size\"]"
   ]
  },
  {
   "cell_type": "code",
   "execution_count": 13,
   "metadata": {},
   "outputs": [
    {
     "name": "stderr",
     "output_type": "stream",
     "text": [
      "/hpc/group/rescomp/sg623/miniconda3/envs/cv_540/lib/python3.8/site-packages/PIL/Image.py:979: UserWarning: Palette images with Transparency expressed in bytes should be converted to RGBA images\n",
      "  warnings.warn(\n"
     ]
    },
    {
     "name": "stdout",
     "output_type": "stream",
     "text": [
      "Epoch [1/1], Averge Loss:for epoch 1: 2.6598]\n"
     ]
    }
   ],
   "source": [
    "for epoch in range(num_epochs):\n",
    "    avg_loss_epoch = 0\n",
    "    batch_loss = 0\n",
    "    total_batches = 0\n",
    "    for images, labels in dataloaders[\"train\"]:\n",
    "        images = images.to(device)\n",
    "        labels = labels.to(device)\n",
    "        images = images.reshape(-1, input_size)\n",
    "        svm_optimizer.zero_grad()\n",
    "        \n",
    "        # Forward pass        \n",
    "        outputs = svm_model(images)           \n",
    "        loss_svm = svm_loss_criteria(outputs, labels)    \n",
    "        \n",
    "        # Backward and optimize\n",
    "        loss_svm.backward()\n",
    "        svm_optimizer.step()    \n",
    "        total_batches += 1     \n",
    "        batch_loss += loss_svm.item()\n",
    "\n",
    "    # Print loss every few iterations\n",
    "    avg_loss_epoch = batch_loss/total_batches\n",
    "    print ('Epoch [{}/{}], Averge Loss:for epoch {}: {:.4f}]'.format(epoch+1, num_epochs, epoch+1, avg_loss_epoch))"
   ]
  },
  {
   "cell_type": "code",
   "execution_count": null,
   "metadata": {},
   "outputs": [],
   "source": [
    "correct = 0.\n",
    "total = 0.\n",
    "for images, labels in dataloaders[\"val\"]:\n",
    "\n",
    "    # Reshape images\n",
    "    images = images.reshape(-1, input_size)\n",
    "    \n",
    "    # Forward pass\n",
    "    outputs = svm_model(images) \n",
    "    \n",
    "    # Get predictions\n",
    "    predicted = torch.argmax(outputs, axis=1)\n",
    "\n",
    "    # Calculate accuracy\n",
    "    total += labels.size(0) \n",
    "    correct += (predicted == labels).sum()    \n",
    "\n",
    "print('Accuracy of the SVM model on the val images: %f %%' % (100 * (correct.float() / total)))"
   ]
  },
  {
   "cell_type": "code",
   "execution_count": null,
   "metadata": {},
   "outputs": [],
   "source": [
    "# set device\n",
    "device = torch.device(\"cuda:0\" if torch.cuda.is_available() else \"cpu\")\n",
    "logging.info(f'Device {device} Being Used.')\n",
    "\n",
    "# train the model\n",
    "model_dir = config[\"model_dir\"]\n",
    "num_epochs = config[\"num_epochs\"]\n",
    "\n",
    "logging.info('Started Training The Model.\\n')\n",
    "\n",
    "net = train_model(model = net, model_dir = model_dir, criterion = criterion, optimizer = optimizer, dataloaders = dataloaders, dataset_sizes = dataset_sizes, scheduler = lr_scheduler, device = device, num_epochs = num_epochs)"
   ]
  }
 ],
 "metadata": {
  "kernelspec": {
   "display_name": "cv_540",
   "language": "python",
   "name": "cv_540"
  },
  "language_info": {
   "codemirror_mode": {
    "name": "ipython",
    "version": 3
   },
   "file_extension": ".py",
   "mimetype": "text/x-python",
   "name": "python",
   "nbconvert_exporter": "python",
   "pygments_lexer": "ipython3",
   "version": "3.8.16"
  },
  "orig_nbformat": 4
 },
 "nbformat": 4,
 "nbformat_minor": 2
}
